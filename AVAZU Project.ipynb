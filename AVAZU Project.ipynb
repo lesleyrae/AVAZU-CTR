{
 "cells": [
  {
   "cell_type": "markdown",
   "id": "291bb3e0",
   "metadata": {},
   "source": [
    "## AVAZU CTR PROJECT\n",
    "CTR:In online advertising, click-through rate (CTR) is a very important metric for evaluating ad performance. As a result, click prediction systems are essential and widely used for sponsored search and real-time bidding.\n",
    "Data Rources:https://www.kaggle.com/c/avazu-ctr-prediction/overview\n",
    "I randomly choose 20000 units as subset in order to write it as example.\n",
    "The Content for the project.\n",
    "1. Data Import\n",
    "2. EDA (Exploratory data analysis)\n",
    "3. Feature Engineering\n",
    "4. Model application& Parameter tuning\n",
    "5. Model Evalutions\n",
    "6. Next Steps"
   ]
  },
  {
   "cell_type": "markdown",
   "id": "8f7b5409",
   "metadata": {},
   "source": [
    "## 1. Data import"
   ]
  },
  {
   "cell_type": "markdown",
   "id": "ab853c92",
   "metadata": {},
   "source": [
    "Evaluation summary\n",
    "Precision: ROI on ad spend through clicks\n",
    "- low precision means that very little tangible ROI on clicks\n",
    "Recall: targeting on relevant audience\n",
    "- low recall means missed out opportunties on ROI"
   ]
  },
  {
   "cell_type": "code",
   "execution_count": 185,
   "id": "1bf15613",
   "metadata": {},
   "outputs": [],
   "source": [
    "import pandas as pd\n",
    "import numpy as np\n",
    "import matplotlib.pyplot as plt\n",
    "from sklearn. preprocessing import StandardScaler\n",
    "import sklearn\n",
    "from sklearn.metrics import confusion_matrix,precision_score,recall_score, roc_curve,auc,accuracy_score,fbeta_score,roc_auc_score\n",
    "from sklearn.model_selection import train_test_split\n",
    "from sklearn. tree import DecisionTreeClassifier \n",
    "from sklearn.linear_model import LogisticRegression\n",
    "from sklearn.model_selection import KFold,cross_val_score,GridSearchCV\n",
    "from sklearn.ensemble import RandomForestClassifier \n",
    "from sklearn.neural_network import MLPClassifier "
   ]
  },
  {
   "cell_type": "code",
   "execution_count": 74,
   "id": "2cf776ac",
   "metadata": {
    "scrolled": false
   },
   "outputs": [],
   "source": [
    "## df=pd.read_csv('train.csv')"
   ]
  },
  {
   "cell_type": "code",
   "execution_count": 4,
   "id": "fa99e694",
   "metadata": {},
   "outputs": [],
   "source": [
    "## df_new=df.sample(n=20000)"
   ]
  },
  {
   "cell_type": "code",
   "execution_count": 75,
   "id": "3c755bc2",
   "metadata": {},
   "outputs": [],
   "source": [
    "df_new=pd.read_csv('df_new.csv')"
   ]
  },
  {
   "cell_type": "markdown",
   "id": "72be4c0b",
   "metadata": {},
   "source": [
    "## 2. EDA\n",
    "Looked at specific features and variability with CTR\n",
    "dtypes,\n",
    "columns,\n",
    "missing_values,\n",
    "Frequencies,CTR groupby specific features"
   ]
  },
  {
   "cell_type": "code",
   "execution_count": 76,
   "id": "fc367c6d",
   "metadata": {},
   "outputs": [
    {
     "data": {
      "text/html": [
       "<div>\n",
       "<style scoped>\n",
       "    .dataframe tbody tr th:only-of-type {\n",
       "        vertical-align: middle;\n",
       "    }\n",
       "\n",
       "    .dataframe tbody tr th {\n",
       "        vertical-align: top;\n",
       "    }\n",
       "\n",
       "    .dataframe thead th {\n",
       "        text-align: right;\n",
       "    }\n",
       "</style>\n",
       "<table border=\"1\" class=\"dataframe\">\n",
       "  <thead>\n",
       "    <tr style=\"text-align: right;\">\n",
       "      <th></th>\n",
       "      <th>Unnamed: 0</th>\n",
       "      <th>id</th>\n",
       "      <th>click</th>\n",
       "      <th>hour</th>\n",
       "      <th>search_engine_type</th>\n",
       "      <th>banner_pos</th>\n",
       "      <th>site_id</th>\n",
       "      <th>site_domain</th>\n",
       "      <th>site_category</th>\n",
       "      <th>app_id</th>\n",
       "      <th>...</th>\n",
       "      <th>device_type</th>\n",
       "      <th>device_conn_type</th>\n",
       "      <th>C14</th>\n",
       "      <th>C15</th>\n",
       "      <th>C16</th>\n",
       "      <th>C17</th>\n",
       "      <th>C18</th>\n",
       "      <th>product_type</th>\n",
       "      <th>C20</th>\n",
       "      <th>advertiser_type</th>\n",
       "    </tr>\n",
       "  </thead>\n",
       "  <tbody>\n",
       "    <tr>\n",
       "      <th>0</th>\n",
       "      <td>3663003</td>\n",
       "      <td>1.328999e+19</td>\n",
       "      <td>1</td>\n",
       "      <td>14102119</td>\n",
       "      <td>1005</td>\n",
       "      <td>0</td>\n",
       "      <td>1fbe01fe</td>\n",
       "      <td>f3845767</td>\n",
       "      <td>28905ebd</td>\n",
       "      <td>ecad2386</td>\n",
       "      <td>...</td>\n",
       "      <td>1</td>\n",
       "      <td>0</td>\n",
       "      <td>21725</td>\n",
       "      <td>320</td>\n",
       "      <td>50</td>\n",
       "      <td>2502</td>\n",
       "      <td>0</td>\n",
       "      <td>35</td>\n",
       "      <td>100083</td>\n",
       "      <td>221</td>\n",
       "    </tr>\n",
       "    <tr>\n",
       "      <th>1</th>\n",
       "      <td>22233842</td>\n",
       "      <td>1.354796e+19</td>\n",
       "      <td>0</td>\n",
       "      <td>14102613</td>\n",
       "      <td>1005</td>\n",
       "      <td>0</td>\n",
       "      <td>89a490f5</td>\n",
       "      <td>ce307e01</td>\n",
       "      <td>3e814130</td>\n",
       "      <td>ecad2386</td>\n",
       "      <td>...</td>\n",
       "      <td>1</td>\n",
       "      <td>0</td>\n",
       "      <td>20009</td>\n",
       "      <td>320</td>\n",
       "      <td>50</td>\n",
       "      <td>2283</td>\n",
       "      <td>0</td>\n",
       "      <td>163</td>\n",
       "      <td>100076</td>\n",
       "      <td>95</td>\n",
       "    </tr>\n",
       "    <tr>\n",
       "      <th>2</th>\n",
       "      <td>24722828</td>\n",
       "      <td>1.367056e+19</td>\n",
       "      <td>0</td>\n",
       "      <td>14102707</td>\n",
       "      <td>1005</td>\n",
       "      <td>0</td>\n",
       "      <td>85f751fd</td>\n",
       "      <td>c4e18dd6</td>\n",
       "      <td>50e219e0</td>\n",
       "      <td>9c13b419</td>\n",
       "      <td>...</td>\n",
       "      <td>1</td>\n",
       "      <td>0</td>\n",
       "      <td>18091</td>\n",
       "      <td>320</td>\n",
       "      <td>50</td>\n",
       "      <td>2060</td>\n",
       "      <td>3</td>\n",
       "      <td>39</td>\n",
       "      <td>-1</td>\n",
       "      <td>23</td>\n",
       "    </tr>\n",
       "    <tr>\n",
       "      <th>3</th>\n",
       "      <td>13789200</td>\n",
       "      <td>1.338143e+19</td>\n",
       "      <td>0</td>\n",
       "      <td>14102404</td>\n",
       "      <td>1005</td>\n",
       "      <td>0</td>\n",
       "      <td>6399eda6</td>\n",
       "      <td>968765cd</td>\n",
       "      <td>f028772b</td>\n",
       "      <td>ecad2386</td>\n",
       "      <td>...</td>\n",
       "      <td>1</td>\n",
       "      <td>2</td>\n",
       "      <td>19950</td>\n",
       "      <td>320</td>\n",
       "      <td>50</td>\n",
       "      <td>1800</td>\n",
       "      <td>3</td>\n",
       "      <td>167</td>\n",
       "      <td>100075</td>\n",
       "      <td>23</td>\n",
       "    </tr>\n",
       "    <tr>\n",
       "      <th>4</th>\n",
       "      <td>38864797</td>\n",
       "      <td>1.119810e+18</td>\n",
       "      <td>0</td>\n",
       "      <td>14103014</td>\n",
       "      <td>1005</td>\n",
       "      <td>0</td>\n",
       "      <td>5b08c53b</td>\n",
       "      <td>7687a86e</td>\n",
       "      <td>3e814130</td>\n",
       "      <td>ecad2386</td>\n",
       "      <td>...</td>\n",
       "      <td>1</td>\n",
       "      <td>0</td>\n",
       "      <td>19016</td>\n",
       "      <td>300</td>\n",
       "      <td>250</td>\n",
       "      <td>2162</td>\n",
       "      <td>2</td>\n",
       "      <td>39</td>\n",
       "      <td>-1</td>\n",
       "      <td>33</td>\n",
       "    </tr>\n",
       "  </tbody>\n",
       "</table>\n",
       "<p>5 rows × 25 columns</p>\n",
       "</div>"
      ],
      "text/plain": [
       "   Unnamed: 0            id  click      hour  search_engine_type  banner_pos  \\\n",
       "0     3663003  1.328999e+19      1  14102119                1005           0   \n",
       "1    22233842  1.354796e+19      0  14102613                1005           0   \n",
       "2    24722828  1.367056e+19      0  14102707                1005           0   \n",
       "3    13789200  1.338143e+19      0  14102404                1005           0   \n",
       "4    38864797  1.119810e+18      0  14103014                1005           0   \n",
       "\n",
       "    site_id site_domain site_category    app_id  ... device_type  \\\n",
       "0  1fbe01fe    f3845767      28905ebd  ecad2386  ...           1   \n",
       "1  89a490f5    ce307e01      3e814130  ecad2386  ...           1   \n",
       "2  85f751fd    c4e18dd6      50e219e0  9c13b419  ...           1   \n",
       "3  6399eda6    968765cd      f028772b  ecad2386  ...           1   \n",
       "4  5b08c53b    7687a86e      3e814130  ecad2386  ...           1   \n",
       "\n",
       "  device_conn_type    C14  C15  C16   C17  C18  product_type     C20  \\\n",
       "0                0  21725  320   50  2502    0            35  100083   \n",
       "1                0  20009  320   50  2283    0           163  100076   \n",
       "2                0  18091  320   50  2060    3            39      -1   \n",
       "3                2  19950  320   50  1800    3           167  100075   \n",
       "4                0  19016  300  250  2162    2            39      -1   \n",
       "\n",
       "   advertiser_type  \n",
       "0              221  \n",
       "1               95  \n",
       "2               23  \n",
       "3               23  \n",
       "4               33  \n",
       "\n",
       "[5 rows x 25 columns]"
      ]
     },
     "execution_count": 76,
     "metadata": {},
     "output_type": "execute_result"
    }
   ],
   "source": [
    "df_new.head()"
   ]
  },
  {
   "cell_type": "code",
   "execution_count": 77,
   "id": "0f1d1b2d",
   "metadata": {
    "scrolled": false
   },
   "outputs": [
    {
     "data": {
      "text/plain": [
       "Unnamed: 0              int64\n",
       "id                    float64\n",
       "click                   int64\n",
       "hour                    int64\n",
       "search_engine_type      int64\n",
       "banner_pos              int64\n",
       "site_id                object\n",
       "site_domain            object\n",
       "site_category          object\n",
       "app_id                 object\n",
       "app_domain             object\n",
       "app_category           object\n",
       "device_id              object\n",
       "device_ip              object\n",
       "device_model           object\n",
       "device_type             int64\n",
       "device_conn_type        int64\n",
       "C14                     int64\n",
       "C15                     int64\n",
       "C16                     int64\n",
       "C17                     int64\n",
       "C18                     int64\n",
       "product_type            int64\n",
       "C20                     int64\n",
       "advertiser_type         int64\n",
       "dtype: object"
      ]
     },
     "execution_count": 77,
     "metadata": {},
     "output_type": "execute_result"
    }
   ],
   "source": [
    "df_new.dtypes"
   ]
  },
  {
   "cell_type": "code",
   "execution_count": 78,
   "id": "0e933e26",
   "metadata": {},
   "outputs": [
    {
     "data": {
      "text/plain": [
       "Index(['Unnamed: 0', 'id', 'click', 'hour', 'search_engine_type', 'banner_pos',\n",
       "       'site_id', 'site_domain', 'site_category', 'app_id', 'app_domain',\n",
       "       'app_category', 'device_id', 'device_ip', 'device_model', 'device_type',\n",
       "       'device_conn_type', 'C14', 'C15', 'C16', 'C17', 'C18', 'product_type',\n",
       "       'C20', 'advertiser_type'],\n",
       "      dtype='object')"
      ]
     },
     "execution_count": 78,
     "metadata": {},
     "output_type": "execute_result"
    }
   ],
   "source": [
    "df_new.columns"
   ]
  },
  {
   "cell_type": "code",
   "execution_count": 79,
   "id": "f9d21f18",
   "metadata": {},
   "outputs": [
    {
     "data": {
      "text/plain": [
       "Unnamed: 0            0\n",
       "id                    0\n",
       "click                 0\n",
       "hour                  0\n",
       "search_engine_type    0\n",
       "banner_pos            0\n",
       "site_id               0\n",
       "site_domain           0\n",
       "site_category         0\n",
       "app_id                0\n",
       "app_domain            0\n",
       "app_category          0\n",
       "device_id             0\n",
       "device_ip             0\n",
       "device_model          0\n",
       "device_type           0\n",
       "device_conn_type      0\n",
       "C14                   0\n",
       "C15                   0\n",
       "C16                   0\n",
       "C17                   0\n",
       "C18                   0\n",
       "product_type          0\n",
       "C20                   0\n",
       "advertiser_type       0\n",
       "dtype: int64"
      ]
     },
     "execution_count": 79,
     "metadata": {},
     "output_type": "execute_result"
    }
   ],
   "source": [
    "np.sum(df_new.isnull())"
   ]
  },
  {
   "cell_type": "code",
   "execution_count": 80,
   "id": "84616029",
   "metadata": {},
   "outputs": [
    {
     "data": {
      "text/plain": [
       "0"
      ]
     },
     "execution_count": 80,
     "metadata": {},
     "output_type": "execute_result"
    }
   ],
   "source": [
    "df_new.isnull().sum(axis=1).sum()"
   ]
  },
  {
   "cell_type": "code",
   "execution_count": 81,
   "id": "f3b10e91",
   "metadata": {},
   "outputs": [],
   "source": [
    "df_new=df_new.rename(columns={'C1':'search_engine_type','C19':'product_type','C21':'advertiser_type'})"
   ]
  },
  {
   "cell_type": "code",
   "execution_count": 82,
   "id": "77d57308",
   "metadata": {},
   "outputs": [],
   "source": [
    "se_df=df_new.groupby(['search_engine_type','click']).size().unstack()"
   ]
  },
  {
   "cell_type": "code",
   "execution_count": 83,
   "id": "1824ac6d",
   "metadata": {},
   "outputs": [
    {
     "data": {
      "text/plain": [
       "<AxesSubplot:title={'center':'value frequency for search engine type'}, xlabel='search_engine_type'>"
      ]
     },
     "execution_count": 83,
     "metadata": {},
     "output_type": "execute_result"
    },
    {
     "data": {
      "image/png": "[encoded data removed]",
      "text/plain": [
       "<Figure size 432x288 with 1 Axes>"
      ]
     },
     "metadata": {
      "needs_background": "light"
     },
     "output_type": "display_data"
    }
   ],
   "source": [
    "se_df.plot(kind='bar',title='value frequency for search engine type')"
   ]
  },
  {
   "cell_type": "code",
   "execution_count": 84,
   "id": "699054c4",
   "metadata": {},
   "outputs": [],
   "source": [
    "se_df=se_df.reset_index()\n",
    "se_df=se_df.rename(columns={0:'non_clicks',1:'clicks'})"
   ]
  },
  {
   "cell_type": "code",
   "execution_count": 85,
   "id": "c249c7c7",
   "metadata": {
    "scrolled": true
   },
   "outputs": [
    {
     "name": "stdout",
     "output_type": "stream",
     "text": [
      "click  search_engine_type  non_clicks  clicks    total       CTR\n",
      "0                    1001         6.0     NaN      NaN       NaN\n",
      "1                    1002       874.0   208.0   1082.0  0.192237\n",
      "2                    1005     15268.0  3115.0  18383.0  0.169450\n",
      "3                    1007        19.0     2.0     21.0  0.095238\n",
      "4                    1008         6.0     NaN      NaN       NaN\n",
      "5                    1010       408.0    46.0    454.0  0.101322\n",
      "6                    1012        39.0     9.0     48.0  0.187500\n"
     ]
    }
   ],
   "source": [
    "## CTR for different search engine type\n",
    "se_df['total']=se_df['non_clicks']+se_df['clicks']\n",
    "se_df['CTR']=se_df['clicks']/se_df['total']\n",
    "print(se_df.sort_values(by='CTR'))"
   ]
  },
  {
   "cell_type": "code",
   "execution_count": 196,
   "id": "c6afa674",
   "metadata": {},
   "outputs": [
    {
     "name": "stdout",
     "output_type": "stream",
     "text": [
      "click  product_type  non_clicks  clicks  total       CTR\n",
      "9               161       738.0    19.0  757.0  0.025099\n",
      "31              559        24.0     1.0   25.0  0.040000\n",
      "33              675        44.0     2.0   46.0  0.043478\n",
      "22              419       164.0     8.0  172.0  0.046512\n",
      "39              803       210.0    12.0  222.0  0.054054\n",
      "..              ...         ...     ...    ...       ...\n",
      "36              683         1.0     NaN    NaN       NaN\n",
      "46              939         NaN     3.0    NaN       NaN\n",
      "47              943         5.0     NaN    NaN       NaN\n",
      "57             1583         3.0     NaN    NaN       NaN\n",
      "60             1835        11.0     NaN    NaN       NaN\n",
      "\n",
      "[62 rows x 5 columns]\n"
     ]
    }
   ],
   "source": [
    "## CTR for different product type\n",
    "se_df=df_new.groupby(['product_type','click']).size().unstack()\n",
    "se_df=se_df.reset_index()\n",
    "se_df=se_df.rename(columns={0:'non_clicks',1:'clicks'})\n",
    "se_df['total']=se_df['non_clicks']+se_df['clicks']\n",
    "se_df['CTR']=se_df['clicks']/se_df['total']\n",
    "print(se_df.sort_values(by='CTR'))"
   ]
  },
  {
   "cell_type": "code",
   "execution_count": 198,
   "id": "5c969477",
   "metadata": {},
   "outputs": [
    {
     "name": "stdout",
     "output_type": "stream",
     "text": [
      "click  advertiser_type  non_clicks  clicks   total       CTR\n",
      "50                 204        45.0     1.0    46.0  0.021739\n",
      "21                  76        72.0     2.0    74.0  0.027027\n",
      "20                  71       967.0    33.0  1000.0  0.033000\n",
      "34                 110        73.0     4.0    77.0  0.051948\n",
      "55                 246       105.0     6.0   111.0  0.054054\n",
      "54                 229       210.0    12.0   222.0  0.054054\n",
      "56                 251        17.0     1.0    18.0  0.055556\n",
      "28                  95       133.0     8.0   141.0  0.056738\n",
      "40                 156       164.0    10.0   174.0  0.057471\n",
      "16                  61       966.0    62.0  1028.0  0.060311\n",
      "30                 101        31.0     2.0    33.0  0.060606\n",
      "51                 212       307.0    22.0   329.0  0.066869\n",
      "4                   17        75.0     6.0    81.0  0.074074\n",
      "47                 182        25.0     2.0    27.0  0.074074\n",
      "25                  91        56.0     5.0    61.0  0.081967\n",
      "11                  43       279.0    25.0   304.0  0.082237\n",
      "44                 171        41.0     4.0    45.0  0.088889\n",
      "12                  46        85.0     9.0    94.0  0.095745\n",
      "35                 111        75.0     9.0    84.0  0.107143\n",
      "27                  94        16.0     2.0    18.0  0.111111\n",
      "42                 159       119.0    16.0   135.0  0.118519\n",
      "41                 157       818.0   110.0   928.0  0.118534\n",
      "13                  48       966.0   130.0  1096.0  0.118613\n",
      "18                  69        74.0    10.0    84.0  0.119048\n",
      "36                 112        35.0     5.0    40.0  0.125000\n",
      "17                  68       130.0    19.0   149.0  0.127517\n",
      "24                  90        64.0    10.0    74.0  0.135135\n",
      "10                  42       458.0    73.0   531.0  0.137476\n",
      "5                   20         6.0     1.0     7.0  0.142857\n",
      "53                 221      2094.0   402.0  2496.0  0.161058\n",
      "29                 100        20.0     4.0    24.0  0.166667\n",
      "33                 108        14.0     3.0    17.0  0.176471\n",
      "57                 253        35.0     8.0    43.0  0.186047\n",
      "31                 102         4.0     1.0     5.0  0.200000\n",
      "22                  79      1739.0   439.0  2178.0  0.201561\n",
      "14                  51       325.0    83.0   408.0  0.203431\n",
      "6                   23      3508.0   916.0  4424.0  0.207052\n",
      "7                   32       726.0   197.0   923.0  0.213434\n",
      "38                 117       162.0    44.0   206.0  0.213592\n",
      "1                   13       147.0    41.0   188.0  0.218085\n",
      "2                   15       284.0    90.0   374.0  0.240642\n",
      "19                  70        43.0    14.0    57.0  0.245614\n",
      "3                   16       133.0    47.0   180.0  0.261111\n",
      "15                  52       427.0   153.0   580.0  0.263793\n",
      "23                  82        23.0    10.0    33.0  0.303030\n",
      "49                 195         2.0     1.0     3.0  0.333333\n",
      "8                   33       460.0   315.0   775.0  0.406452\n",
      "9                   35        11.0    11.0    22.0  0.500000\n",
      "58                 255         1.0     2.0     3.0  0.666667\n",
      "0                    1         1.0     NaN     NaN       NaN\n",
      "26                  93         7.0     NaN     NaN       NaN\n",
      "32                 104         3.0     NaN     NaN       NaN\n",
      "37                 116         7.0     NaN     NaN       NaN\n",
      "39                 126         6.0     NaN     NaN       NaN\n",
      "43                 163         1.0     NaN     NaN       NaN\n",
      "45                 177         4.0     NaN     NaN       NaN\n",
      "46                 178        17.0     NaN     NaN       NaN\n",
      "48                 194         2.0     NaN     NaN       NaN\n",
      "52                 219         2.0     NaN     NaN       NaN\n"
     ]
    }
   ],
   "source": [
    "## CTR for different advertiser_type\n",
    "se_df=df_new.groupby(['advertiser_type','click']).size().unstack()\n",
    "se_df=se_df.reset_index()\n",
    "se_df=se_df.rename(columns={0:'non_clicks',1:'clicks'})\n",
    "se_df['total']=se_df['non_clicks']+se_df['clicks']\n",
    "se_df['CTR']=se_df['clicks']/se_df['total']\n",
    "print(se_df.sort_values(by='CTR'))"
   ]
  },
  {
   "cell_type": "markdown",
   "id": "5278327f",
   "metadata": {},
   "source": [
    "## 3. Feature engineering\n",
    "(1)Variable processing \n",
    "create hour --- hour of day\n",
    "(2)categorial processing\n",
    "hash(x)\n",
    "(3)features_count\n",
    "(4)Standarization\n",
    "4.1 Apply log normalization on columns with higher than median variance\n",
    "4.2 Transform columns using StandardScaler"
   ]
  },
  {
   "cell_type": "markdown",
   "id": "691bdf70",
   "metadata": {},
   "source": [
    "### Variable processing"
   ]
  },
  {
   "cell_type": "code",
   "execution_count": 86,
   "id": "d4b0008b",
   "metadata": {},
   "outputs": [],
   "source": [
    "df_new['hour'] = pd.to_datetime(df_new['hour'], format = '%y%m%d%H')\n",
    "df_new['hour_of_day'] = df_new['hour'].dt.hour"
   ]
  },
  {
   "cell_type": "code",
   "execution_count": 87,
   "id": "e13eec36",
   "metadata": {},
   "outputs": [
    {
     "name": "stdout",
     "output_type": "stream",
     "text": [
      "       Unnamed: 0            id  click                hour  \\\n",
      "0         3663003  1.328999e+19      1 2014-10-21 19:00:00   \n",
      "1        22233842  1.354796e+19      0 2014-10-26 13:00:00   \n",
      "2        24722828  1.367056e+19      0 2014-10-27 07:00:00   \n",
      "3        13789200  1.338143e+19      0 2014-10-24 04:00:00   \n",
      "4        38864797  1.119810e+18      0 2014-10-30 14:00:00   \n",
      "...           ...           ...    ...                 ...   \n",
      "19995    36981302  1.167163e+19      0 2014-10-30 05:00:00   \n",
      "19996    38647342  1.343334e+19      0 2014-10-30 13:00:00   \n",
      "19997    25610131  1.568756e+19      0 2014-10-27 13:00:00   \n",
      "19998    36320507  1.420271e+19      0 2014-10-30 01:00:00   \n",
      "19999    30466462  7.561137e+18      0 2014-10-28 14:00:00   \n",
      "\n",
      "       search_engine_type  banner_pos   site_id site_domain site_category  \\\n",
      "0                    1005           0  1fbe01fe    f3845767      28905ebd   \n",
      "1                    1005           0  89a490f5    ce307e01      3e814130   \n",
      "2                    1005           0  85f751fd    c4e18dd6      50e219e0   \n",
      "3                    1005           0  6399eda6    968765cd      f028772b   \n",
      "4                    1005           0  5b08c53b    7687a86e      3e814130   \n",
      "...                   ...         ...       ...         ...           ...   \n",
      "19995                1005           1  b7e9786d    b12b9f85      f028772b   \n",
      "19996                1005           1  85f751fd    c4e18dd6      50e219e0   \n",
      "19997                1005           0  1fbe01fe    f3845767      28905ebd   \n",
      "19998                1005           0  85f751fd    c4e18dd6      50e219e0   \n",
      "19999                1005           1  b7e9786d    b12b9f85      f028772b   \n",
      "\n",
      "         app_id  ... device_conn_type    C14  C15  C16   C17  C18  \\\n",
      "0      ecad2386  ...                0  21725  320   50  2502    0   \n",
      "1      ecad2386  ...                0  20009  320   50  2283    0   \n",
      "2      9c13b419  ...                0  18091  320   50  2060    3   \n",
      "3      ecad2386  ...                2  19950  320   50  1800    3   \n",
      "4      ecad2386  ...                0  19016  300  250  2162    2   \n",
      "...         ...  ...              ...    ...  ...  ...   ...  ...   \n",
      "19995  ecad2386  ...                0  19771  320   50  2227    0   \n",
      "19996  cf0327f9  ...                0  23379  300   50  2681    1   \n",
      "19997  ecad2386  ...                0  20108  320   50  2299    2   \n",
      "19998  0acbeaa3  ...                0  22624  320   50  2374    3   \n",
      "19999  ecad2386  ...                0  19772  320   50  2227    0   \n",
      "\n",
      "       product_type     C20  advertiser_type  hour_of_day  \n",
      "0                35  100083              221           19  \n",
      "1               163  100076               95           13  \n",
      "2                39      -1               23            7  \n",
      "3               167  100075               23            4  \n",
      "4                39      -1               33           14  \n",
      "...             ...     ...              ...          ...  \n",
      "19995           935  100074               48            5  \n",
      "19996           419      -1              212           13  \n",
      "19997          1327      -1               52           13  \n",
      "19998            39      -1               23            1  \n",
      "19999           935  100077               48           14  \n",
      "\n",
      "[20000 rows x 26 columns]\n"
     ]
    }
   ],
   "source": [
    "print(df_new)"
   ]
  },
  {
   "cell_type": "code",
   "execution_count": 88,
   "id": "59c7bae1",
   "metadata": {},
   "outputs": [
    {
     "data": {
      "image/png": "[encoded data removed]",
      "text/plain": [
       "<Figure size 864x432 with 1 Axes>"
      ]
     },
     "metadata": {
      "needs_background": "light"
     },
     "output_type": "display_data"
    }
   ],
   "source": [
    "# Get and plot total clicks by hour of day\n",
    "df_new.groupby('hour_of_day')['click'].sum().plot.bar(figsize=(12,6))\n",
    "plt.ylabel('Number of clicks')\n",
    "plt.title('Number of clicks by hour of day')\n",
    "plt.show()"
   ]
  },
  {
   "cell_type": "code",
   "execution_count": 89,
   "id": "5a7b0bf0",
   "metadata": {},
   "outputs": [],
   "source": [
    "##categorial processing\n",
    "categorial_cols=df_new.select_dtypes(include=['object']).columns.tolist()\n",
    "for col in categorial_cols:\n",
    "    df_new[col]= df_new[col].apply(lambda x:hash(x))"
   ]
  },
  {
   "cell_type": "code",
   "execution_count": 90,
   "id": "c3e5f3ea",
   "metadata": {},
   "outputs": [
    {
     "data": {
      "text/html": [
       "<div>\n",
       "<style scoped>\n",
       "    .dataframe tbody tr th:only-of-type {\n",
       "        vertical-align: middle;\n",
       "    }\n",
       "\n",
       "    .dataframe tbody tr th {\n",
       "        vertical-align: top;\n",
       "    }\n",
       "\n",
       "    .dataframe thead th {\n",
       "        text-align: right;\n",
       "    }\n",
       "</style>\n",
       "<table border=\"1\" class=\"dataframe\">\n",
       "  <thead>\n",
       "    <tr style=\"text-align: right;\">\n",
       "      <th></th>\n",
       "      <th>Unnamed: 0</th>\n",
       "      <th>id</th>\n",
       "      <th>click</th>\n",
       "      <th>hour</th>\n",
       "      <th>search_engine_type</th>\n",
       "      <th>banner_pos</th>\n",
       "      <th>site_id</th>\n",
       "      <th>site_domain</th>\n",
       "      <th>site_category</th>\n",
       "      <th>app_id</th>\n",
       "      <th>...</th>\n",
       "      <th>device_conn_type</th>\n",
       "      <th>C14</th>\n",
       "      <th>C15</th>\n",
       "      <th>C16</th>\n",
       "      <th>C17</th>\n",
       "      <th>C18</th>\n",
       "      <th>product_type</th>\n",
       "      <th>C20</th>\n",
       "      <th>advertiser_type</th>\n",
       "      <th>hour_of_day</th>\n",
       "    </tr>\n",
       "  </thead>\n",
       "  <tbody>\n",
       "    <tr>\n",
       "      <th>0</th>\n",
       "      <td>3663003</td>\n",
       "      <td>1.328999e+19</td>\n",
       "      <td>1</td>\n",
       "      <td>2014-10-21 19:00:00</td>\n",
       "      <td>1005</td>\n",
       "      <td>0</td>\n",
       "      <td>4434902062798931880</td>\n",
       "      <td>-7949737045604288452</td>\n",
       "      <td>-2522620493032896879</td>\n",
       "      <td>-6372487308215151456</td>\n",
       "      <td>...</td>\n",
       "      <td>0</td>\n",
       "      <td>21725</td>\n",
       "      <td>320</td>\n",
       "      <td>50</td>\n",
       "      <td>2502</td>\n",
       "      <td>0</td>\n",
       "      <td>35</td>\n",
       "      <td>100083</td>\n",
       "      <td>221</td>\n",
       "      <td>19</td>\n",
       "    </tr>\n",
       "    <tr>\n",
       "      <th>1</th>\n",
       "      <td>22233842</td>\n",
       "      <td>1.354796e+19</td>\n",
       "      <td>0</td>\n",
       "      <td>2014-10-26 13:00:00</td>\n",
       "      <td>1005</td>\n",
       "      <td>0</td>\n",
       "      <td>-7509233640368011396</td>\n",
       "      <td>4108338812881778546</td>\n",
       "      <td>3107277090511135029</td>\n",
       "      <td>-6372487308215151456</td>\n",
       "      <td>...</td>\n",
       "      <td>0</td>\n",
       "      <td>20009</td>\n",
       "      <td>320</td>\n",
       "      <td>50</td>\n",
       "      <td>2283</td>\n",
       "      <td>0</td>\n",
       "      <td>163</td>\n",
       "      <td>100076</td>\n",
       "      <td>95</td>\n",
       "      <td>13</td>\n",
       "    </tr>\n",
       "    <tr>\n",
       "      <th>2</th>\n",
       "      <td>24722828</td>\n",
       "      <td>1.367056e+19</td>\n",
       "      <td>0</td>\n",
       "      <td>2014-10-27 07:00:00</td>\n",
       "      <td>1005</td>\n",
       "      <td>0</td>\n",
       "      <td>-6648841929243426612</td>\n",
       "      <td>-540229382530709525</td>\n",
       "      <td>-6502660151715606893</td>\n",
       "      <td>8970105218406350399</td>\n",
       "      <td>...</td>\n",
       "      <td>0</td>\n",
       "      <td>18091</td>\n",
       "      <td>320</td>\n",
       "      <td>50</td>\n",
       "      <td>2060</td>\n",
       "      <td>3</td>\n",
       "      <td>39</td>\n",
       "      <td>-1</td>\n",
       "      <td>23</td>\n",
       "      <td>7</td>\n",
       "    </tr>\n",
       "    <tr>\n",
       "      <th>3</th>\n",
       "      <td>13789200</td>\n",
       "      <td>1.338143e+19</td>\n",
       "      <td>0</td>\n",
       "      <td>2014-10-24 04:00:00</td>\n",
       "      <td>1005</td>\n",
       "      <td>0</td>\n",
       "      <td>5362171089439795233</td>\n",
       "      <td>8071600283347957249</td>\n",
       "      <td>-4782788504019978487</td>\n",
       "      <td>-6372487308215151456</td>\n",
       "      <td>...</td>\n",
       "      <td>2</td>\n",
       "      <td>19950</td>\n",
       "      <td>320</td>\n",
       "      <td>50</td>\n",
       "      <td>1800</td>\n",
       "      <td>3</td>\n",
       "      <td>167</td>\n",
       "      <td>100075</td>\n",
       "      <td>23</td>\n",
       "      <td>4</td>\n",
       "    </tr>\n",
       "    <tr>\n",
       "      <th>4</th>\n",
       "      <td>38864797</td>\n",
       "      <td>1.119810e+18</td>\n",
       "      <td>0</td>\n",
       "      <td>2014-10-30 14:00:00</td>\n",
       "      <td>1005</td>\n",
       "      <td>0</td>\n",
       "      <td>469122119204043543</td>\n",
       "      <td>7863201858812251847</td>\n",
       "      <td>3107277090511135029</td>\n",
       "      <td>-6372487308215151456</td>\n",
       "      <td>...</td>\n",
       "      <td>0</td>\n",
       "      <td>19016</td>\n",
       "      <td>300</td>\n",
       "      <td>250</td>\n",
       "      <td>2162</td>\n",
       "      <td>2</td>\n",
       "      <td>39</td>\n",
       "      <td>-1</td>\n",
       "      <td>33</td>\n",
       "      <td>14</td>\n",
       "    </tr>\n",
       "  </tbody>\n",
       "</table>\n",
       "<p>5 rows × 26 columns</p>\n",
       "</div>"
      ],
      "text/plain": [
       "   Unnamed: 0            id  click                hour  search_engine_type  \\\n",
       "0     3663003  1.328999e+19      1 2014-10-21 19:00:00                1005   \n",
       "1    22233842  1.354796e+19      0 2014-10-26 13:00:00                1005   \n",
       "2    24722828  1.367056e+19      0 2014-10-27 07:00:00                1005   \n",
       "3    13789200  1.338143e+19      0 2014-10-24 04:00:00                1005   \n",
       "4    38864797  1.119810e+18      0 2014-10-30 14:00:00                1005   \n",
       "\n",
       "   banner_pos              site_id          site_domain        site_category  \\\n",
       "0           0  4434902062798931880 -7949737045604288452 -2522620493032896879   \n",
       "1           0 -7509233640368011396  4108338812881778546  3107277090511135029   \n",
       "2           0 -6648841929243426612  -540229382530709525 -6502660151715606893   \n",
       "3           0  5362171089439795233  8071600283347957249 -4782788504019978487   \n",
       "4           0   469122119204043543  7863201858812251847  3107277090511135029   \n",
       "\n",
       "                app_id  ...  device_conn_type    C14  C15  C16   C17  C18  \\\n",
       "0 -6372487308215151456  ...                 0  21725  320   50  2502    0   \n",
       "1 -6372487308215151456  ...                 0  20009  320   50  2283    0   \n",
       "2  8970105218406350399  ...                 0  18091  320   50  2060    3   \n",
       "3 -6372487308215151456  ...                 2  19950  320   50  1800    3   \n",
       "4 -6372487308215151456  ...                 0  19016  300  250  2162    2   \n",
       "\n",
       "   product_type     C20  advertiser_type  hour_of_day  \n",
       "0            35  100083              221           19  \n",
       "1           163  100076               95           13  \n",
       "2            39      -1               23            7  \n",
       "3           167  100075               23            4  \n",
       "4            39      -1               33           14  \n",
       "\n",
       "[5 rows x 26 columns]"
      ]
     },
     "execution_count": 90,
     "metadata": {},
     "output_type": "execute_result"
    }
   ],
   "source": [
    "df_new.head()"
   ]
  },
  {
   "cell_type": "code",
   "execution_count": 91,
   "id": "8c8b77ed",
   "metadata": {},
   "outputs": [
    {
     "name": "stdout",
     "output_type": "stream",
     "text": [
      "20000\n",
      "7\n",
      "20000\n",
      "62\n",
      "20000\n",
      "59\n"
     ]
    }
   ],
   "source": [
    "# Get counts of total and unique values for given features\n",
    "feature_list = [\"search_engine_type\", \"product_type\", \"advertiser_type\"]\n",
    "for feature in feature_list:\n",
    "    print(df_new[feature].count())\n",
    "    print(df_new[feature].nunique())"
   ]
  },
  {
   "cell_type": "code",
   "execution_count": 92,
   "id": "66be23b9",
   "metadata": {},
   "outputs": [
    {
     "name": "stdout",
     "output_type": "stream",
     "text": [
      "   Unnamed: 0            id  click                hour  search_engine_type  \\\n",
      "0     3663003  1.328999e+19      1 2014-10-21 19:00:00                1005   \n",
      "1    22233842  1.354796e+19      0 2014-10-26 13:00:00                1005   \n",
      "2    24722828  1.367056e+19      0 2014-10-27 07:00:00                1005   \n",
      "3    13789200  1.338143e+19      0 2014-10-24 04:00:00                1005   \n",
      "4    38864797  1.119810e+18      0 2014-10-30 14:00:00                1005   \n",
      "\n",
      "   banner_pos              site_id          site_domain        site_category  \\\n",
      "0           0  4434902062798931880 -7949737045604288452 -2522620493032896879   \n",
      "1           0 -7509233640368011396  4108338812881778546  3107277090511135029   \n",
      "2           0 -6648841929243426612  -540229382530709525 -6502660151715606893   \n",
      "3           0  5362171089439795233  8071600283347957249 -4782788504019978487   \n",
      "4           0   469122119204043543  7863201858812251847  3107277090511135029   \n",
      "\n",
      "                app_id  ...  C18  product_type     C20  advertiser_type  \\\n",
      "0 -6372487308215151456  ...    0            35  100083              221   \n",
      "1 -6372487308215151456  ...    0           163  100076               95   \n",
      "2  8970105218406350399  ...    3            39      -1               23   \n",
      "3 -6372487308215151456  ...    3           167  100075               23   \n",
      "4 -6372487308215151456  ...    2            39      -1               33   \n",
      "\n",
      "   hour_of_day  device_id_count  site_id_count  search_engine_type_count  \\\n",
      "0           19            16491           3117                     18383   \n",
      "1           13            16491             42                     18383   \n",
      "2            7            16491           7242                     18383   \n",
      "3            4            16491            188                     18383   \n",
      "4           14            16491            477                     18383   \n",
      "\n",
      "   product_type_count  advertiser_type_count  \n",
      "0                5994                   2496  \n",
      "1                 435                    141  \n",
      "2                4433                   4424  \n",
      "3                1577                   4424  \n",
      "4                4433                    775  \n",
      "\n",
      "[5 rows x 31 columns]\n"
     ]
    }
   ],
   "source": [
    "new_feature_list = ['device_id', 'site_id'] + feature_list\n",
    "for new_feature in new_feature_list:\n",
    "    df_new[new_feature + '_count'] = df_new.groupby(\n",
    "    new_feature)['click'].transform(\"count\")\n",
    "print(df_new.head(5))"
   ]
  },
  {
   "cell_type": "markdown",
   "id": "3b6ea16d",
   "metadata": {},
   "source": [
    "### Standarization"
   ]
  },
  {
   "cell_type": "code",
   "execution_count": 93,
   "id": "b848a161",
   "metadata": {},
   "outputs": [
    {
     "name": "stdout",
     "output_type": "stream",
     "text": [
      "Index(['Unnamed: 0', 'id', 'click', 'search_engine_type', 'banner_pos',\n",
      "       'site_id', 'site_domain', 'site_category', 'app_id', 'app_domain',\n",
      "       'app_category', 'device_id', 'device_ip', 'device_model', 'device_type',\n",
      "       'device_conn_type', 'C14', 'C15', 'C16', 'C17', 'C18', 'product_type',\n",
      "       'C20', 'advertiser_type', 'hour_of_day', 'device_id_count',\n",
      "       'site_id_count', 'search_engine_type_count', 'product_type_count',\n",
      "       'advertiser_type_count'],\n",
      "      dtype='object')\n"
     ]
    }
   ],
   "source": [
    "num_df = df_new.select_dtypes(include=['int', 'float'])\n",
    "print(num_df.columns)"
   ]
  },
  {
   "cell_type": "code",
   "execution_count": 94,
   "id": "4a9ac080",
   "metadata": {},
   "outputs": [
    {
     "name": "stdout",
     "output_type": "stream",
     "text": [
      "Index(['Unnamed: 0', 'id', 'site_id', 'site_domain', 'site_category', 'app_id',\n",
      "       'app_domain', 'app_category', 'device_id', 'device_ip', 'device_model',\n",
      "       'device_conn_type', 'C14', 'C15', 'C16', 'C17', 'C18', 'C20',\n",
      "       'hour_of_day', 'device_id_count', 'site_id_count',\n",
      "       'search_engine_type_count', 'product_type_count',\n",
      "       'advertiser_type_count'],\n",
      "      dtype='object')\n",
      "1268691659.4780107\n"
     ]
    }
   ],
   "source": [
    "filter_cols = ['click', 'banner_pos', 'device_type',\n",
    "               'search_engine_type', 'product_type', 'advertiser_type']\n",
    "new_df = num_df[num_df.columns[~num_df.columns.isin(filter_cols)]]\n",
    "print(new_df.columns)\n",
    "median = new_df.var().median()\n",
    "print(median)"
   ]
  },
  {
   "cell_type": "code",
   "execution_count": 95,
   "id": "883198d0",
   "metadata": {},
   "outputs": [
    {
     "name": "stdout",
     "output_type": "stream",
     "text": [
      "1.6925290263834554\n"
     ]
    },
    {
     "name": "stderr",
     "output_type": "stream",
     "text": [
      "/Users/yanzhenlei/opt/anaconda3/lib/python3.8/site-packages/pandas/core/arraylike.py:358: RuntimeWarning: invalid value encountered in log\n",
      "  result = getattr(ufunc, method)(*inputs, **kwargs)\n",
      "/Users/yanzhenlei/opt/anaconda3/lib/python3.8/site-packages/pandas/core/frame.py:3191: SettingWithCopyWarning: \n",
      "A value is trying to be set on a copy of a slice from a DataFrame.\n",
      "Try using .loc[row_indexer,col_indexer] = value instead\n",
      "\n",
      "See the caveats in the documentation: https://pandas.pydata.org/pandas-docs/stable/user_guide/indexing.html#returning-a-view-versus-a-copy\n",
      "  self[k1] = value[k2]\n"
     ]
    }
   ],
   "source": [
    "# Apply log normalization on columns with higher than median variance\n",
    "change_cols = new_df.columns[new_df.var() > median].tolist()\n",
    "new_df[change_cols] = new_df[change_cols].apply(\n",
    "  lambda x: np.log(x))\n",
    "print(new_df.var().median())"
   ]
  },
  {
   "cell_type": "code",
   "execution_count": 96,
   "id": "d7727423",
   "metadata": {
    "scrolled": true
   },
   "outputs": [
    {
     "name": "stdout",
     "output_type": "stream",
     "text": [
      "id                         -4.959921e-18\n",
      "site_id                    -1.639466e-16\n",
      "device_conn_type           -2.990663e-16\n",
      "device_id_count            -2.609302e-16\n",
      "site_id_count               2.062905e-16\n",
      "search_engine_type_count    8.708423e-16\n",
      "product_type_count          3.049894e-16\n",
      "advertiser_type_count       9.018897e-17\n",
      "dtype: float64\n",
      "id                          1.00005\n",
      "site_id                     1.00005\n",
      "device_conn_type            1.00005\n",
      "device_id_count             1.00005\n",
      "site_id_count               1.00005\n",
      "search_engine_type_count    1.00005\n",
      "product_type_count          1.00005\n",
      "advertiser_type_count       1.00005\n",
      "dtype: float64\n"
     ]
    }
   ],
   "source": [
    "# Transform columns using StandardScaler\n",
    "scaler =StandardScaler()\n",
    "df_new[num_cols] = scaler.fit_transform(df_new[num_cols])\n",
    "# Print mean and variance of transformed columns\n",
    "print(df_new[num_cols].mean())\n",
    "print(df_new[num_cols].var())"
   ]
  },
  {
   "cell_type": "code",
   "execution_count": 97,
   "id": "60b32db9",
   "metadata": {},
   "outputs": [
    {
     "data": {
      "text/plain": [
       "Index(['Unnamed: 0', 'id', 'click', 'hour', 'search_engine_type', 'banner_pos',\n",
       "       'site_id', 'site_domain', 'site_category', 'app_id', 'app_domain',\n",
       "       'app_category', 'device_id', 'device_ip', 'device_model', 'device_type',\n",
       "       'device_conn_type', 'C14', 'C15', 'C16', 'C17', 'C18', 'product_type',\n",
       "       'C20', 'advertiser_type', 'hour_of_day', 'device_id_count',\n",
       "       'site_id_count', 'search_engine_type_count', 'product_type_count',\n",
       "       'advertiser_type_count'],\n",
       "      dtype='object')"
      ]
     },
     "execution_count": 97,
     "metadata": {},
     "output_type": "execute_result"
    }
   ],
   "source": [
    "df_new.columns"
   ]
  },
  {
   "cell_type": "markdown",
   "id": "82969787",
   "metadata": {},
   "source": [
    "## 4. Model Application & Parameters tuning \n",
    "(1) Logitic Regression\n",
    "(2) Decision Tree\n",
    "(3) Random Forest\n",
    "(4) MLPClassifier\n",
    "Create list of hyperparameters \n",
    "Use Grid search CV to find best parameters "
   ]
  },
  {
   "cell_type": "code",
   "execution_count": 99,
   "id": "941764a5",
   "metadata": {},
   "outputs": [],
   "source": [
    "# Set up classifier using training data to predict test data\n",
    "x=df_new.loc[:,~df_new.columns.isin(['click'])]"
   ]
  },
  {
   "cell_type": "code",
   "execution_count": 107,
   "id": "d91183a6",
   "metadata": {},
   "outputs": [
    {
     "data": {
      "text/plain": [
       "Index(['Unnamed: 0', 'id', 'click', 'hour', 'search_engine_type', 'banner_pos',\n",
       "       'site_id', 'site_domain', 'site_category', 'app_id', 'app_domain',\n",
       "       'app_category', 'device_id', 'device_ip', 'device_model', 'device_type',\n",
       "       'device_conn_type', 'C14', 'C15', 'C16', 'C17', 'C18', 'product_type',\n",
       "       'C20', 'advertiser_type', 'hour_of_day', 'device_id_count',\n",
       "       'site_id_count', 'search_engine_type_count', 'product_type_count',\n",
       "       'advertiser_type_count'],\n",
       "      dtype='object')"
      ]
     },
     "execution_count": 107,
     "metadata": {},
     "output_type": "execute_result"
    }
   ],
   "source": [
    "df_new.columns"
   ]
  },
  {
   "cell_type": "code",
   "execution_count": 111,
   "id": "6da9dd93",
   "metadata": {},
   "outputs": [
    {
     "name": "stdout",
     "output_type": "stream",
     "text": [
      "Index(['hour', 'search_engine_type', 'banner_pos', 'site_id', 'site_domain',\n",
      "       'site_category', 'app_id', 'app_domain', 'app_category', 'device_id',\n",
      "       'device_ip', 'device_model', 'device_type', 'device_conn_type',\n",
      "       'product_type', 'C20', 'advertiser_type', 'hour_of_day',\n",
      "       'device_id_count', 'site_id_count', 'search_engine_type_count',\n",
      "       'product_type_count', 'advertiser_type_count'],\n",
      "      dtype='object')\n"
     ]
    }
   ],
   "source": [
    "filter_cols = ['hour', 'search_engine_type', 'banner_pos',\n",
    "       'site_id', 'site_domain', 'site_category', 'app_id', 'app_domain',\n",
    "       'app_category', 'device_id', 'device_ip', 'device_model', 'device_type',\n",
    "       'device_conn_type','product_type',\n",
    "       'C20', 'advertiser_type', 'hour_of_day', 'device_id_count',\n",
    "       'site_id_count', 'search_engine_type_count', 'product_type_count',\n",
    "       'advertiser_type_count']\n",
    "new_df2 = df_new.loc[:,df_new.columns.isin(filter_cols)]\n",
    "print(new_df2.columns)"
   ]
  },
  {
   "cell_type": "code",
   "execution_count": 129,
   "id": "72e573b4",
   "metadata": {},
   "outputs": [
    {
     "name": "stderr",
     "output_type": "stream",
     "text": [
      "<ipython-input-129-da1a88d46981>:1: SettingWithCopyWarning: \n",
      "A value is trying to be set on a copy of a slice from a DataFrame.\n",
      "Try using .loc[row_indexer,col_indexer] = value instead\n",
      "\n",
      "See the caveats in the documentation: https://pandas.pydata.org/pandas-docs/stable/user_guide/indexing.html#returning-a-view-versus-a-copy\n",
      "  new_df2['hour']=pd.to_numeric(new_df2['hour'])\n"
     ]
    }
   ],
   "source": [
    "new_df2['hour']=pd.to_numeric(new_df2['hour'])"
   ]
  },
  {
   "cell_type": "code",
   "execution_count": 112,
   "id": "f809b800",
   "metadata": {},
   "outputs": [],
   "source": [
    "y=df_new.click"
   ]
  },
  {
   "cell_type": "code",
   "execution_count": 106,
   "id": "91306ed3",
   "metadata": {
    "scrolled": true
   },
   "outputs": [
    {
     "name": "stdout",
     "output_type": "stream",
     "text": [
      "sample CTR :\n",
      " 0.169\n"
     ]
    }
   ],
   "source": [
    "#CTR\n",
    "print(\"sample CTR :\\n\",y.sum()/len(y))"
   ]
  },
  {
   "cell_type": "code",
   "execution_count": null,
   "id": "77a40714",
   "metadata": {},
   "outputs": [],
   "source": [
    "x_train, x_test, y_train, y_test = train_test_split(\n",
    "  new_df2, y, test_size = .2, random_state = 0)"
   ]
  },
  {
   "cell_type": "markdown",
   "id": "79d09893",
   "metadata": {},
   "source": [
    "### DecisionTree"
   ]
  },
  {
   "cell_type": "code",
   "execution_count": 130,
   "id": "da9c400f",
   "metadata": {},
   "outputs": [],
   "source": [
    "clf = DecisionTreeClassifier()"
   ]
  },
  {
   "cell_type": "code",
   "execution_count": 131,
   "id": "964aa70b",
   "metadata": {},
   "outputs": [],
   "source": [
    "y_pred = clf.fit(x_train, y_train).predict(x_test) "
   ]
  },
  {
   "cell_type": "code",
   "execution_count": 134,
   "id": "99998a30",
   "metadata": {},
   "outputs": [
    {
     "name": "stdout",
     "output_type": "stream",
     "text": [
      "TN: 2785, FP: 589, FN: 459, TP: 167\n"
     ]
    }
   ],
   "source": [
    "# Define confusion matrix and four categories\n",
    "conf_matrix = confusion_matrix(y_test, y_pred)\n",
    "tn = conf_matrix[0][0]\n",
    "fp = conf_matrix[0][1]\n",
    "fn = conf_matrix[1][0]\n",
    "tp = conf_matrix[1][1]\n",
    "\n",
    "print(\"TN: %s, FP: %s, FN: %s, TP: %s\" %(tn, fp, fn, tp))"
   ]
  },
  {
   "cell_type": "code",
   "execution_count": 135,
   "id": "928f9c43",
   "metadata": {},
   "outputs": [
    {
     "name": "stdout",
     "output_type": "stream",
     "text": [
      "Total return: 33.4, Total cost: 37.800000000000004, ROI: 0.8835978835978835\n"
     ]
    }
   ],
   "source": [
    "## ROI\n",
    "# Calculate total return, total spent, and ROI\n",
    "r = 0.2\n",
    "cost = 0.05\n",
    "total_return = tp * r\n",
    "total_cost = (tp + fp) * cost \n",
    "roi = total_return / total_cost\n",
    "print(\"Total return: %s, Total cost: %s, ROI: %s\" %(\n",
    "  total_return, total_cost, roi))"
   ]
  },
  {
   "cell_type": "code",
   "execution_count": 138,
   "id": "1c43e90b",
   "metadata": {},
   "outputs": [
    {
     "name": "stdout",
     "output_type": "stream",
     "text": [
      "Precision: 0.758722277676655, Recall: 0.738\n"
     ]
    }
   ],
   "source": [
    "### Evaluate precision and recall\n",
    "prec = precision_score(y_test, y_pred, average = 'weighted')\n",
    "recall = recall_score(y_test, y_pred, average = 'weighted')\n",
    "print(\"Precision: %s, Recall: %s\" %(prec, recall))"
   ]
  },
  {
   "cell_type": "markdown",
   "id": "f36f643a",
   "metadata": {},
   "source": [
    "### Logistic regression"
   ]
  },
  {
   "cell_type": "code",
   "execution_count": 187,
   "id": "0b4f93bc",
   "metadata": {
    "scrolled": true
   },
   "outputs": [
    {
     "name": "stdout",
     "output_type": "stream",
     "text": [
      "ROI: nan, Precision: 0.697225,AUC of ROC curve:0.6225880058065687\n"
     ]
    },
    {
     "name": "stderr",
     "output_type": "stream",
     "text": [
      "<ipython-input-187-6611609ed55c>:10: RuntimeWarning: invalid value encountered in double_scalars\n",
      "  roi = total_return / total_spent\n",
      "/Users/yanzhenlei/opt/anaconda3/lib/python3.8/site-packages/sklearn/metrics/_classification.py:1248: UndefinedMetricWarning: Precision is ill-defined and being set to 0.0 in labels with no predicted samples. Use `zero_division` parameter to control this behavior.\n",
      "  _warn_prf(average, modifier, msg_start, len(result))\n"
     ]
    }
   ],
   "source": [
    "# Create and fit classifier\n",
    "clf = LogisticRegression()\n",
    "y_pred = clf.fit(x_train, y_train).predict(x_test) \n",
    "y_score = clf.fit(x_train, y_train).predict_proba(x_test) \n",
    "# Calculate total return, total spent, and ROI \n",
    "r, cost = 0.2, 0.05\n",
    "tn, fp, fn, tp = confusion_matrix(y_test, y_pred).ravel()\n",
    "total_return = tp * r\n",
    "total_spent = (tp + fp) * cost \n",
    "roi = total_return / total_spent\n",
    "prec = precision_score(y_test, y_pred, average = 'weighted')\n",
    "roc_auc = roc_auc_score(y_test, y_score[:, 1])\n",
    "print(\"ROI: %s, Precision: %s,AUC of ROC curve:%s\" %( roi, prec, roc_auc))"
   ]
  },
  {
   "cell_type": "markdown",
   "id": "128db0c8",
   "metadata": {},
   "source": [
    "Not works..Choose Decision Tree model"
   ]
  },
  {
   "cell_type": "markdown",
   "id": "64468fb0",
   "metadata": {},
   "source": [
    "### Optimization"
   ]
  },
  {
   "cell_type": "markdown",
   "id": "9e1ef611",
   "metadata": {},
   "source": [
    "### Decision Tree"
   ]
  },
  {
   "cell_type": "code",
   "execution_count": 165,
   "id": "85f86251",
   "metadata": {},
   "outputs": [
    {
     "name": "stdout",
     "output_type": "stream",
     "text": [
      "Evaluating Decision Tree for max_depth = 2\n",
      "Cross validation Precision: [0.68434256 0.68517006 0.674041   0.69806025]\n",
      "Test Precision: 0.71149225\n",
      "Evaluating Decision Tree for max_depth = 3\n"
     ]
    },
    {
     "name": "stderr",
     "output_type": "stream",
     "text": [
      "/Users/yanzhenlei/opt/anaconda3/lib/python3.8/site-packages/sklearn/metrics/_classification.py:1248: UndefinedMetricWarning: Precision is ill-defined and being set to 0.0 in labels with no predicted samples. Use `zero_division` parameter to control this behavior.\n",
      "  _warn_prf(average, modifier, msg_start, len(result))\n",
      "/Users/yanzhenlei/opt/anaconda3/lib/python3.8/site-packages/sklearn/metrics/_classification.py:1248: UndefinedMetricWarning: Precision is ill-defined and being set to 0.0 in labels with no predicted samples. Use `zero_division` parameter to control this behavior.\n",
      "  _warn_prf(average, modifier, msg_start, len(result))\n",
      "/Users/yanzhenlei/opt/anaconda3/lib/python3.8/site-packages/sklearn/metrics/_classification.py:1248: UndefinedMetricWarning: Precision is ill-defined and being set to 0.0 in labels with no predicted samples. Use `zero_division` parameter to control this behavior.\n",
      "  _warn_prf(average, modifier, msg_start, len(result))\n",
      "/Users/yanzhenlei/opt/anaconda3/lib/python3.8/site-packages/sklearn/metrics/_classification.py:1248: UndefinedMetricWarning: Precision is ill-defined and being set to 0.0 in labels with no predicted samples. Use `zero_division` parameter to control this behavior.\n",
      "  _warn_prf(average, modifier, msg_start, len(result))\n",
      "/Users/yanzhenlei/opt/anaconda3/lib/python3.8/site-packages/sklearn/metrics/_classification.py:1248: UndefinedMetricWarning: Precision is ill-defined and being set to 0.0 in labels with no predicted samples. Use `zero_division` parameter to control this behavior.\n",
      "  _warn_prf(average, modifier, msg_start, len(result))\n",
      "/Users/yanzhenlei/opt/anaconda3/lib/python3.8/site-packages/sklearn/metrics/_classification.py:1248: UndefinedMetricWarning: Precision is ill-defined and being set to 0.0 in labels with no predicted samples. Use `zero_division` parameter to control this behavior.\n",
      "  _warn_prf(average, modifier, msg_start, len(result))\n",
      "/Users/yanzhenlei/opt/anaconda3/lib/python3.8/site-packages/sklearn/metrics/_classification.py:1248: UndefinedMetricWarning: Precision is ill-defined and being set to 0.0 in labels with no predicted samples. Use `zero_division` parameter to control this behavior.\n",
      "  _warn_prf(average, modifier, msg_start, len(result))\n",
      "/Users/yanzhenlei/opt/anaconda3/lib/python3.8/site-packages/sklearn/metrics/_classification.py:1248: UndefinedMetricWarning: Precision is ill-defined and being set to 0.0 in labels with no predicted samples. Use `zero_division` parameter to control this behavior.\n",
      "  _warn_prf(average, modifier, msg_start, len(result))\n",
      "/Users/yanzhenlei/opt/anaconda3/lib/python3.8/site-packages/sklearn/metrics/_classification.py:1248: UndefinedMetricWarning: Precision is ill-defined and being set to 0.0 in labels with no predicted samples. Use `zero_division` parameter to control this behavior.\n",
      "  _warn_prf(average, modifier, msg_start, len(result))\n"
     ]
    },
    {
     "name": "stdout",
     "output_type": "stream",
     "text": [
      "Cross validation Precision: [0.68434256 0.68517006 0.674041   0.75331804]\n",
      "Test Precision: 0.71149225\n",
      "Evaluating Decision Tree for max_depth = 5\n",
      "Cross validation Precision: [0.76391849 0.77079215 0.75557574 0.74541596]\n",
      "Test Precision: 0.7702151973131822\n",
      "Evaluating Decision Tree for max_depth = 10\n",
      "Cross validation Precision: [0.74834542 0.74687128 0.74211881 0.7507942 ]\n",
      "Test Precision: 0.7610478957019544\n",
      "Evaluating Decision Tree for max_depth = 15\n",
      "Cross validation Precision: [0.74271706 0.73899492 0.74423279 0.74796135]\n",
      "Test Precision: 0.7603252855120273\n",
      "Evaluating Decision Tree for max_depth = 20\n",
      "Cross validation Precision: [0.74425977 0.74457349 0.73348737 0.74576353]\n",
      "Test Precision: 0.7648198952784833\n"
     ]
    }
   ],
   "source": [
    "for max_depth_val in [2, 3, 5, 10, 15, 20]:\n",
    "    k_fold = KFold(n_splits= 4)\n",
    "    clf = DecisionTreeClassifier(max_depth = max_depth_val)\n",
    "    print(\"Evaluating Decision Tree for max_depth = %s\" %(max_depth_val))\n",
    "    y_pred = clf.fit(x_train, y_train).predict(x_test) \n",
    "  \n",
    "  # Calculate precision for cross validation and test\n",
    "    cv_precision = cross_val_score(\n",
    "    clf, x_train, y_train, cv = k_fold, scoring = 'precision_weighted')\n",
    "    precision = precision_score(y_test, y_pred, average = 'weighted')\n",
    "    print(\"Cross validation Precision: %s\" %(cv_precision))\n",
    "    print(\"Test Precision: %s\" %(precision))"
   ]
  },
  {
   "cell_type": "code",
   "execution_count": 183,
   "id": "721be4ea",
   "metadata": {},
   "outputs": [
    {
     "name": "stdout",
     "output_type": "stream",
     "text": [
      "Precision: [0.75606824 0.75714503 0.77294062 0.76431025 0.77851485], Recall: [0.8275    0.829375  0.8290625 0.8215625 0.828125 ], F-Beta : 0.7402041684020548\n"
     ]
    }
   ],
   "source": [
    "# Create model \n",
    "clf = DecisionTreeClassifier(max_depth=5)\n",
    "\n",
    "# Set up k-fold\n",
    "k_fold = KFold()\n",
    "\n",
    "# Evaluate precision and recall for each fold\n",
    "precision = cross_val_score(clf, x_train, y_train, cv = k_fold, scoring = 'precision_weighted')\n",
    "recall = cross_val_score(clf, x_train, y_train, cv =k_fold, scoring = 'recall_weighted')\n",
    "fbeta = fbeta_score(y_test, y_pred, beta  = 0.5, average = 'weighted')\n",
    "print(\"Precision: %s, Recall: %s, F-Beta : %s\" %(precision, recall,fbeta))"
   ]
  },
  {
   "cell_type": "markdown",
   "id": "35b69379",
   "metadata": {},
   "source": [
    "### Randomforest"
   ]
  },
  {
   "cell_type": "code",
   "execution_count": 163,
   "id": "5417312b",
   "metadata": {},
   "outputs": [
    {
     "name": "stdout",
     "output_type": "stream",
     "text": [
      "starting RF grid search.. \n",
      "Best Score: \n",
      "0.7037666697116769\n",
      "Best Estimator: \n",
      "RandomForestClassifier(max_depth=10, n_estimators=80)\n"
     ]
    }
   ],
   "source": [
    "# Create list of hyperparameters \n",
    "n_estimators = [10, 20,50,80,100]\n",
    "max_depth = [3, 5,10,20]\n",
    "param_grid = {'n_estimators': n_estimators, 'max_depth': max_depth}\n",
    "\n",
    "# Use Grid search CV to find best parameters \n",
    "print(\"starting RF grid search.. \")\n",
    "rf = RandomForestClassifier()\n",
    "clf = GridSearchCV(estimator = rf, param_grid = param_grid, scoring = 'roc_auc')\n",
    "clf.fit(x_train, y_train)\n",
    "print(\"Best Score: \")\n",
    "print(clf.best_score_)\n",
    "print(\"Best Estimator: \")\n",
    "print(clf.best_estimator_)"
   ]
  },
  {
   "cell_type": "code",
   "execution_count": 181,
   "id": "ff18f75f",
   "metadata": {},
   "outputs": [
    {
     "name": "stdout",
     "output_type": "stream",
     "text": [
      "ROC of AUC: 0.6979441117764471\n",
      "Precision: 0.7846571716662465, Recall: 0.83525, F-Beta : 0.7402041684020548\n"
     ]
    }
   ],
   "source": [
    "# Create random forest classifier with specified params\n",
    "clf = RandomForestClassifier(n_estimators = 80, max_depth = 10)\n",
    "\n",
    "# Train classifier - predict probability score and label\n",
    "y_score = clf.fit(x_train, y_train).predict_proba(x_test) \n",
    "y_pred = clf.fit(x_train, y_train).predict(x_test) \n",
    "\n",
    "# Get ROC curve metrics\n",
    "fpr, tpr, thresholds = roc_curve(y_test, y_score[:, 1])\n",
    "print(\"ROC of AUC: %s\"%(auc(fpr, tpr)))\n",
    "\n",
    "# Get precision and recall\n",
    "precision = precision_score(y_test, y_pred, average = 'weighted')\n",
    "recall = recall_score(y_test, y_pred, average = 'weighted')\n",
    "fbeta = fbeta_score(y_test, y_pred, beta  = 0.5, average = 'weighted')\n",
    "print(\"Precision: %s, Recall: %s, F-Beta : %s\" %(precision, recall,fbeta))"
   ]
  },
  {
   "cell_type": "markdown",
   "id": "3d58120e",
   "metadata": {},
   "source": [
    "### Deep Learning"
   ]
  },
  {
   "cell_type": "code",
   "execution_count": 177,
   "id": "ddf60662",
   "metadata": {},
   "outputs": [
    {
     "name": "stdout",
     "output_type": "stream",
     "text": [
      "Best Score: \n",
      "0.6710547262515745\n",
      "Best Estimator: \n",
      "MLPClassifier(hidden_layer_sizes=(20,), max_iter=100)\n"
     ]
    },
    {
     "name": "stderr",
     "output_type": "stream",
     "text": [
      "/Users/yanzhenlei/opt/anaconda3/lib/python3.8/site-packages/sklearn/neural_network/_multilayer_perceptron.py:614: ConvergenceWarning: Stochastic Optimizer: Maximum iterations (100) reached and the optimization hasn't converged yet.\n",
      "  warnings.warn(\n"
     ]
    }
   ],
   "source": [
    "# Create list of hyperparameters \n",
    "max_iter = [10, 20,50,100]\n",
    "hidden_layer_sizes = [(4,),(8,), (16,), (20,)]\n",
    "param_grid = {'max_iter': max_iter, 'hidden_layer_sizes': hidden_layer_sizes}\n",
    "\n",
    "# Use Grid search CV to find best parameters using 4 jobs\n",
    "mlp = MLPClassifier()\n",
    "clf = GridSearchCV(estimator = mlp, param_grid =param_grid, \n",
    "           scoring = 'roc_auc', n_jobs = 4)\n",
    "clf.fit(x_train, y_train)\n",
    "print(\"Best Score: \")\n",
    "print(clf.best_score_)\n",
    "print(\"Best Estimator: \")\n",
    "print(clf.best_estimator_)"
   ]
  },
  {
   "cell_type": "code",
   "execution_count": 178,
   "id": "e825a161",
   "metadata": {},
   "outputs": [
    {
     "name": "stderr",
     "output_type": "stream",
     "text": [
      "/Users/yanzhenlei/opt/anaconda3/lib/python3.8/site-packages/sklearn/neural_network/_multilayer_perceptron.py:614: ConvergenceWarning: Stochastic Optimizer: Maximum iterations (100) reached and the optimization hasn't converged yet.\n",
      "  warnings.warn(\n"
     ]
    },
    {
     "name": "stdout",
     "output_type": "stream",
     "text": [
      "Accuracy: 0.83275\n",
      "ROC of AUC curve: 0.6635515332970423\n"
     ]
    },
    {
     "name": "stderr",
     "output_type": "stream",
     "text": [
      "/Users/yanzhenlei/opt/anaconda3/lib/python3.8/site-packages/sklearn/neural_network/_multilayer_perceptron.py:614: ConvergenceWarning: Stochastic Optimizer: Maximum iterations (100) reached and the optimization hasn't converged yet.\n",
      "  warnings.warn(\n"
     ]
    }
   ],
   "source": [
    "# Scale features and split into training and testing\n",
    "x = StandardScaler().fit_transform(new_df2)\n",
    "x_train, x_test, y_train, y_test = train_test_split(\n",
    "  x, y, test_size = .2)\n",
    "\n",
    "# Create classifier and produce predictions\n",
    "clf = MLPClassifier(hidden_layer_sizes = (20, ), max_iter = 100)\n",
    "y_score = clf.fit(x_train, y_train).predict_proba(x_test) \n",
    "y_pred = clf.fit(x_train, y_train).predict(x_test) \n",
    "\n",
    "# Get accuracy and AUC of ROC curve \n",
    "fpr, tpr, thresholds = roc_curve(y_test, y_score[:, 1])\n",
    "roc_auc = auc(fpr, tpr)\n",
    "print(\"Accuracy: %s\" %(accuracy_score(y_test, y_pred)))\n",
    "print(\"ROC of AUC curve: %s\" %(roc_auc))"
   ]
  },
  {
   "cell_type": "code",
   "execution_count": 180,
   "id": "f5ec57e2",
   "metadata": {},
   "outputs": [
    {
     "name": "stdout",
     "output_type": "stream",
     "text": [
      "Precision: 0.7678272235711199, Recall: 0.83275, F-beta score: 0.742211886845039\n"
     ]
    }
   ],
   "source": [
    "# Evaluate precision and recall\n",
    "prec = precision_score(y_test, y_pred, average = 'weighted')\n",
    "recall = recall_score(y_test, y_pred, average = 'weighted')\n",
    "fbeta = fbeta_score(y_test, y_pred, beta  = 0.5, average = 'weighted')\n",
    "print(\"Precision: %s, Recall: %s, F-beta score: %s\" %(prec, recall, fbeta))"
   ]
  },
  {
   "cell_type": "code",
   "execution_count": 186,
   "id": "b08052b1",
   "metadata": {},
   "outputs": [
    {
     "name": "stdout",
     "output_type": "stream",
     "text": [
      "Total ROI: 3.138628686664986, Precision: 0.7846571716662465, AUC of ROC curve: 0.6979441117764471\n"
     ]
    }
   ],
   "source": [
    "# Evaluate the ROI\n",
    "prec = precision_score(y_test, y_pred, average = 'weighted')\n",
    "r = 0.2\n",
    "cost = 0.05 \n",
    "roi = prec * r / cost\n",
    "# Get AUC\n",
    "roc_auc = roc_auc_score(y_test, y_score[:, 1])\n",
    "print(\"Total ROI: %s, Precision: %s, AUC of ROC curve: %s\" %(\n",
    "  roi, prec, roc_auc))"
   ]
  },
  {
   "cell_type": "markdown",
   "id": "ee0ec399",
   "metadata": {},
   "source": [
    "## 5. Evaluation\n",
    "Create list of classifiers\n",
    "Produce a classification report for all classifiers\n",
    "** ROI(precision_score) *r /cost\n",
    "** Recall- sensitivity = TP / (TP + FN)\n",
    "** precision - positive predictive value = TP / (TP + FP)\n",
    "** F-beta: F-Measure = (2 * Precision * Recall) / (Precision + Recall)\n",
    "** AUC-ROC score. It tells how much the model is capable of distinguishing between classes. "
   ]
  },
  {
   "cell_type": "code",
   "execution_count": 191,
   "id": "384bd544",
   "metadata": {},
   "outputs": [
    {
     "name": "stderr",
     "output_type": "stream",
     "text": [
      "/Users/yanzhenlei/opt/anaconda3/lib/python3.8/site-packages/sklearn/metrics/_classification.py:1248: UndefinedMetricWarning: Precision is ill-defined and being set to 0.0 in labels with no predicted samples. Use `zero_division` parameter to control this behavior.\n",
      "  _warn_prf(average, modifier, msg_start, len(result))\n"
     ]
    },
    {
     "name": "stdout",
     "output_type": "stream",
     "text": [
      "ROI for Logistic Regression: 2.7889 \n",
      "Precision: 0.697225: Recall: 0.835, F-beta score: 0.721018614270941, AUC of ROC curve: 0.6225880058065687\n",
      "ROI for Decision Tree: 3.09244918699187 \n",
      "Precision: 0.7731122967479676: Recall: 0.833, F-beta score: 0.7480332641074762, AUC of ROC curve: 0.6225880058065687\n",
      "ROI for Random Forest: 3.127923387096774 \n",
      "Precision: 0.7819808467741935: Recall: 0.835, F-beta score: 0.7390966781548334, AUC of ROC curve: 0.6225880058065687\n",
      "ROI for Multi-Layer Perceptron: 3.088576222837487 \n",
      "Precision: 0.7721440557093716: Recall: 0.83425, F-beta score: 0.7347019290765391, AUC of ROC curve: 0.6225880058065687\n"
     ]
    },
    {
     "name": "stderr",
     "output_type": "stream",
     "text": [
      "/Users/yanzhenlei/opt/anaconda3/lib/python3.8/site-packages/sklearn/neural_network/_multilayer_perceptron.py:614: ConvergenceWarning: Stochastic Optimizer: Maximum iterations (100) reached and the optimization hasn't converged yet.\n",
      "  warnings.warn(\n"
     ]
    }
   ],
   "source": [
    "## Model comparsion\n",
    "# Create list of classifiers\n",
    "names = ['Logistic Regression',  'Decision Tree',\n",
    "         'Random Forest', 'Multi-Layer Perceptron']\n",
    "clfs = [LogisticRegression(), \n",
    "        DecisionTreeClassifier(max_depth=5), \n",
    "        RandomForestClassifier(n_estimators = 80, max_depth = 10),\n",
    "        MLPClassifier(hidden_layer_sizes = (20,), max_iter = 100)]\n",
    "  \n",
    "# Produce a classification report for all classifiers\n",
    "for name, classifier in zip(names, clfs):\n",
    "    classifier.fit(x_train, y_train)\n",
    "    y_score = clf.fit(x_train, y_train).predict_proba(x_test)\n",
    "    y_pred = classifier.predict(x_test) \n",
    "    prec = precision_score(y_test, y_pred, average = 'weighted')\n",
    "    r, cost = 0.2, 0.05 \n",
    "    roi = prec * r / cost\n",
    "    print(\"ROI for %s: %s \" %(name, roi))\n",
    "    recall = recall_score(y_test, y_pred, average = 'weighted')\n",
    "    fbeta = fbeta_score(y_test, y_pred, beta = 0.5, average = 'weighted')\n",
    "    roc_auc = roc_auc_score(y_test, y_score[:, 1])\n",
    "    print(\"Precision: %s: Recall: %s, F-beta score: %s, AUC of ROC curve: %s\" \n",
    "        %(prec, recall, fbeta, roc_auc))"
   ]
  },
  {
   "cell_type": "markdown",
   "id": "eedc835b",
   "metadata": {},
   "source": [
    "## 6. Next Steps\n",
    "The evaluation showed that Random's forest's ROI is highest, Decision Tree's F-beta score is highest.\n",
    "Next steps:\n",
    "Use Ensemble modeling to improve the accuracy. Ensemble modeling is a process where multiple diverse models are created to predict an outcome, either by using many different modeling algorithms or using different training data sets. \n"
   ]
  }
 ],
 "metadata": {
  "kernelspec": {
   "display_name": "Python 3",
   "language": "python",
   "name": "python3"
  },
  "language_info": {
   "codemirror_mode": {
    "name": "ipython",
    "version": 3
   },
   "file_extension": ".py",
   "mimetype": "text/x-python",
   "name": "python",
   "nbconvert_exporter": "python",
   "pygments_lexer": "ipython3",
   "version": "3.8.10"
  }
 },
 "nbformat": 4,
 "nbformat_minor": 5
}
